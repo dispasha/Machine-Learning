{
 "cells": [
  {
   "cell_type": "code",
   "execution_count": 20,
   "id": "659b3aa9",
   "metadata": {},
   "outputs": [],
   "source": [
    "import pandas as pd\n",
    "import numpy as np\n",
    "from sklearn.ensemble import RandomForestRegressor\n",
    "from sklearn.metrics import r2_score\n",
    "from sklearn.model_selection import KFold\n",
    "import sklearn\n"
   ]
  },
  {
   "cell_type": "code",
   "execution_count": 2,
   "id": "fb9173e2",
   "metadata": {},
   "outputs": [],
   "source": [
    "data = pd.read_csv('abalone.csv')"
   ]
  },
  {
   "cell_type": "code",
   "execution_count": 6,
   "id": "1b965e1d",
   "metadata": {},
   "outputs": [],
   "source": [
    "data['Sex'] = data['Sex'].map(lambda x: 1 if x == 'M' else (-1 if x == 'F' else 0))"
   ]
  },
  {
   "cell_type": "code",
   "execution_count": 7,
   "id": "82788fd5",
   "metadata": {},
   "outputs": [
    {
     "data": {
      "text/html": [
       "<div>\n",
       "<style scoped>\n",
       "    .dataframe tbody tr th:only-of-type {\n",
       "        vertical-align: middle;\n",
       "    }\n",
       "\n",
       "    .dataframe tbody tr th {\n",
       "        vertical-align: top;\n",
       "    }\n",
       "\n",
       "    .dataframe thead th {\n",
       "        text-align: right;\n",
       "    }\n",
       "</style>\n",
       "<table border=\"1\" class=\"dataframe\">\n",
       "  <thead>\n",
       "    <tr style=\"text-align: right;\">\n",
       "      <th></th>\n",
       "      <th>Sex</th>\n",
       "      <th>Length</th>\n",
       "      <th>Diameter</th>\n",
       "      <th>Height</th>\n",
       "      <th>WholeWeight</th>\n",
       "      <th>ShuckedWeight</th>\n",
       "      <th>VisceraWeight</th>\n",
       "      <th>ShellWeight</th>\n",
       "      <th>Rings</th>\n",
       "    </tr>\n",
       "  </thead>\n",
       "  <tbody>\n",
       "    <tr>\n",
       "      <th>0</th>\n",
       "      <td>1</td>\n",
       "      <td>0.455</td>\n",
       "      <td>0.365</td>\n",
       "      <td>0.095</td>\n",
       "      <td>0.5140</td>\n",
       "      <td>0.2245</td>\n",
       "      <td>0.1010</td>\n",
       "      <td>0.1500</td>\n",
       "      <td>15</td>\n",
       "    </tr>\n",
       "    <tr>\n",
       "      <th>1</th>\n",
       "      <td>1</td>\n",
       "      <td>0.350</td>\n",
       "      <td>0.265</td>\n",
       "      <td>0.090</td>\n",
       "      <td>0.2255</td>\n",
       "      <td>0.0995</td>\n",
       "      <td>0.0485</td>\n",
       "      <td>0.0700</td>\n",
       "      <td>7</td>\n",
       "    </tr>\n",
       "    <tr>\n",
       "      <th>2</th>\n",
       "      <td>-1</td>\n",
       "      <td>0.530</td>\n",
       "      <td>0.420</td>\n",
       "      <td>0.135</td>\n",
       "      <td>0.6770</td>\n",
       "      <td>0.2565</td>\n",
       "      <td>0.1415</td>\n",
       "      <td>0.2100</td>\n",
       "      <td>9</td>\n",
       "    </tr>\n",
       "    <tr>\n",
       "      <th>3</th>\n",
       "      <td>1</td>\n",
       "      <td>0.440</td>\n",
       "      <td>0.365</td>\n",
       "      <td>0.125</td>\n",
       "      <td>0.5160</td>\n",
       "      <td>0.2155</td>\n",
       "      <td>0.1140</td>\n",
       "      <td>0.1550</td>\n",
       "      <td>10</td>\n",
       "    </tr>\n",
       "    <tr>\n",
       "      <th>4</th>\n",
       "      <td>0</td>\n",
       "      <td>0.330</td>\n",
       "      <td>0.255</td>\n",
       "      <td>0.080</td>\n",
       "      <td>0.2050</td>\n",
       "      <td>0.0895</td>\n",
       "      <td>0.0395</td>\n",
       "      <td>0.0550</td>\n",
       "      <td>7</td>\n",
       "    </tr>\n",
       "    <tr>\n",
       "      <th>...</th>\n",
       "      <td>...</td>\n",
       "      <td>...</td>\n",
       "      <td>...</td>\n",
       "      <td>...</td>\n",
       "      <td>...</td>\n",
       "      <td>...</td>\n",
       "      <td>...</td>\n",
       "      <td>...</td>\n",
       "      <td>...</td>\n",
       "    </tr>\n",
       "    <tr>\n",
       "      <th>4172</th>\n",
       "      <td>-1</td>\n",
       "      <td>0.565</td>\n",
       "      <td>0.450</td>\n",
       "      <td>0.165</td>\n",
       "      <td>0.8870</td>\n",
       "      <td>0.3700</td>\n",
       "      <td>0.2390</td>\n",
       "      <td>0.2490</td>\n",
       "      <td>11</td>\n",
       "    </tr>\n",
       "    <tr>\n",
       "      <th>4173</th>\n",
       "      <td>1</td>\n",
       "      <td>0.590</td>\n",
       "      <td>0.440</td>\n",
       "      <td>0.135</td>\n",
       "      <td>0.9660</td>\n",
       "      <td>0.4390</td>\n",
       "      <td>0.2145</td>\n",
       "      <td>0.2605</td>\n",
       "      <td>10</td>\n",
       "    </tr>\n",
       "    <tr>\n",
       "      <th>4174</th>\n",
       "      <td>1</td>\n",
       "      <td>0.600</td>\n",
       "      <td>0.475</td>\n",
       "      <td>0.205</td>\n",
       "      <td>1.1760</td>\n",
       "      <td>0.5255</td>\n",
       "      <td>0.2875</td>\n",
       "      <td>0.3080</td>\n",
       "      <td>9</td>\n",
       "    </tr>\n",
       "    <tr>\n",
       "      <th>4175</th>\n",
       "      <td>-1</td>\n",
       "      <td>0.625</td>\n",
       "      <td>0.485</td>\n",
       "      <td>0.150</td>\n",
       "      <td>1.0945</td>\n",
       "      <td>0.5310</td>\n",
       "      <td>0.2610</td>\n",
       "      <td>0.2960</td>\n",
       "      <td>10</td>\n",
       "    </tr>\n",
       "    <tr>\n",
       "      <th>4176</th>\n",
       "      <td>1</td>\n",
       "      <td>0.710</td>\n",
       "      <td>0.555</td>\n",
       "      <td>0.195</td>\n",
       "      <td>1.9485</td>\n",
       "      <td>0.9455</td>\n",
       "      <td>0.3765</td>\n",
       "      <td>0.4950</td>\n",
       "      <td>12</td>\n",
       "    </tr>\n",
       "  </tbody>\n",
       "</table>\n",
       "<p>4177 rows × 9 columns</p>\n",
       "</div>"
      ],
      "text/plain": [
       "      Sex  Length  Diameter  Height  WholeWeight  ShuckedWeight  \\\n",
       "0       1   0.455     0.365   0.095       0.5140         0.2245   \n",
       "1       1   0.350     0.265   0.090       0.2255         0.0995   \n",
       "2      -1   0.530     0.420   0.135       0.6770         0.2565   \n",
       "3       1   0.440     0.365   0.125       0.5160         0.2155   \n",
       "4       0   0.330     0.255   0.080       0.2050         0.0895   \n",
       "...   ...     ...       ...     ...          ...            ...   \n",
       "4172   -1   0.565     0.450   0.165       0.8870         0.3700   \n",
       "4173    1   0.590     0.440   0.135       0.9660         0.4390   \n",
       "4174    1   0.600     0.475   0.205       1.1760         0.5255   \n",
       "4175   -1   0.625     0.485   0.150       1.0945         0.5310   \n",
       "4176    1   0.710     0.555   0.195       1.9485         0.9455   \n",
       "\n",
       "      VisceraWeight  ShellWeight  Rings  \n",
       "0            0.1010       0.1500     15  \n",
       "1            0.0485       0.0700      7  \n",
       "2            0.1415       0.2100      9  \n",
       "3            0.1140       0.1550     10  \n",
       "4            0.0395       0.0550      7  \n",
       "...             ...          ...    ...  \n",
       "4172         0.2390       0.2490     11  \n",
       "4173         0.2145       0.2605     10  \n",
       "4174         0.2875       0.3080      9  \n",
       "4175         0.2610       0.2960     10  \n",
       "4176         0.3765       0.4950     12  \n",
       "\n",
       "[4177 rows x 9 columns]"
      ]
     },
     "execution_count": 7,
     "metadata": {},
     "output_type": "execute_result"
    }
   ],
   "source": [
    "data"
   ]
  },
  {
   "cell_type": "code",
   "execution_count": 9,
   "id": "6e318074",
   "metadata": {},
   "outputs": [],
   "source": [
    "Y = data.Rings\n",
    "X = data.drop('Rings', axis = 1)"
   ]
  },
  {
   "cell_type": "code",
   "execution_count": 11,
   "id": "298a1e9d",
   "metadata": {},
   "outputs": [
    {
     "data": {
      "text/plain": [
       "0       15\n",
       "1        7\n",
       "2        9\n",
       "3       10\n",
       "4        7\n",
       "        ..\n",
       "4172    11\n",
       "4173    10\n",
       "4174     9\n",
       "4175    10\n",
       "4176    12\n",
       "Name: Rings, Length: 4177, dtype: int64"
      ]
     },
     "execution_count": 11,
     "metadata": {},
     "output_type": "execute_result"
    }
   ],
   "source": [
    "Y"
   ]
  },
  {
   "cell_type": "code",
   "execution_count": 12,
   "id": "59c26eca",
   "metadata": {},
   "outputs": [],
   "source": [
    "forest = RandomForestRegressor(random_state=1)"
   ]
  },
  {
   "cell_type": "code",
   "execution_count": 21,
   "id": "1ab9702d",
   "metadata": {},
   "outputs": [],
   "source": [
    "frag = KFold(5, shuffle=True, random_state=1)"
   ]
  },
  {
   "cell_type": "code",
   "execution_count": 26,
   "id": "263cecbf",
   "metadata": {},
   "outputs": [],
   "source": [
    "def accuracy(kf, X, y):\n",
    "    scores = []\n",
    "    scores_range = range(1,51)\n",
    "    for k in scores_range:\n",
    "        forest = RandomForestRegressor(n_estimators=k, random_state=1)\n",
    "        score = sklearn.model_selection.cross_val_score(forest, X, y, cv=kf, scoring=\\\n",
    "        lambda est, X, y: r2_score(y, est.predict(X)))\n",
    "        scores.append(score)\n",
    "    return pd.DataFrame(scores, scores_range).mean(axis=1).sort_values(ascending=False)"
   ]
  },
  {
   "cell_type": "code",
   "execution_count": 27,
   "id": "72f3c5a5",
   "metadata": {},
   "outputs": [
    {
     "data": {
      "text/plain": [
       "50    0.530951\n",
       "49    0.530813\n",
       "33    0.530107\n",
       "48    0.530051\n",
       "42    0.530043\n",
       "34    0.529961\n",
       "43    0.529914\n",
       "36    0.529910\n",
       "35    0.529821\n",
       "41    0.529809\n",
       "44    0.529681\n",
       "39    0.529516\n",
       "38    0.529472\n",
       "40    0.529470\n",
       "37    0.529432\n",
       "47    0.529179\n",
       "46    0.529008\n",
       "32    0.528924\n",
       "45    0.528908\n",
       "31    0.527642\n",
       "30    0.527086\n",
       "29    0.526556\n",
       "28    0.525656\n",
       "27    0.524639\n",
       "26    0.524308\n",
       "25    0.523249\n",
       "24    0.523106\n",
       "23    0.521743\n",
       "22    0.520804\n",
       "21    0.520529\n",
       "19    0.519829\n",
       "20    0.519484\n",
       "18    0.517220\n",
       "17    0.514892\n",
       "16    0.511411\n",
       "15    0.509181\n",
       "14    0.507317\n",
       "13    0.503058\n",
       "12    0.499028\n",
       "10    0.495409\n",
       "11    0.494411\n",
       "9     0.489437\n",
       "8     0.482935\n",
       "7     0.476666\n",
       "6     0.471396\n",
       "5     0.465032\n",
       "4     0.444775\n",
       "3     0.406434\n",
       "2     0.341300\n",
       "1     0.109675\n",
       "dtype: float64"
      ]
     },
     "execution_count": 27,
     "metadata": {},
     "output_type": "execute_result"
    }
   ],
   "source": [
    "accuracy(frag, X, Y)"
   ]
  },
  {
   "cell_type": "code",
   "execution_count": 66,
   "id": "be5f7075",
   "metadata": {},
   "outputs": [
    {
     "data": {
      "text/plain": [
       "array([-50.90240358,  17.63167724,   7.7360209 ,   2.59600961,\n",
       "         2.37756945,   4.24405501,  12.8830885 ,   3.55657041,\n",
       "        -5.82197358,  -1.72604005])"
      ]
     },
     "execution_count": 66,
     "metadata": {},
     "output_type": "execute_result"
    }
   ],
   "source": []
  },
  {
   "cell_type": "code",
   "execution_count": 75,
   "id": "a342349e",
   "metadata": {},
   "outputs": [
    {
     "data": {
      "text/plain": [
       "26"
      ]
     },
     "execution_count": 75,
     "metadata": {},
     "output_type": "execute_result"
    }
   ],
   "source": [
    "pca.components_[0].argmax()"
   ]
  },
  {
   "cell_type": "code",
   "execution_count": 77,
   "id": "7c0593aa",
   "metadata": {},
   "outputs": [
    {
     "data": {
      "text/plain": [
       "'V'"
      ]
     },
     "execution_count": 77,
     "metadata": {},
     "output_type": "execute_result"
    }
   ],
   "source": [
    "data.keys()[26]"
   ]
  },
  {
   "cell_type": "code",
   "execution_count": null,
   "id": "bbb2ee38",
   "metadata": {},
   "outputs": [],
   "source": []
  }
 ],
 "metadata": {
  "kernelspec": {
   "display_name": "Python 3 (ipykernel)",
   "language": "python",
   "name": "python3"
  },
  "language_info": {
   "codemirror_mode": {
    "name": "ipython",
    "version": 3
   },
   "file_extension": ".py",
   "mimetype": "text/x-python",
   "name": "python",
   "nbconvert_exporter": "python",
   "pygments_lexer": "ipython3",
   "version": "3.10.2"
  }
 },
 "nbformat": 4,
 "nbformat_minor": 5
}
