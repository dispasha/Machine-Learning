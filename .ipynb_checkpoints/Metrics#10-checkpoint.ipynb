{
 "cells": [
  {
   "cell_type": "code",
   "execution_count": 1,
   "id": "ae0c6cb0",
   "metadata": {},
   "outputs": [],
   "source": [
    "import pandas as pd\n",
    "import numpy as np\n",
    "import sklearn\n",
    "from sklearn.metrics import precision_recall_curve, roc_auc_score, accuracy_score, precision_score, recall_score, f1_score"
   ]
  },
  {
   "cell_type": "code",
   "execution_count": 25,
   "id": "91193543",
   "metadata": {},
   "outputs": [],
   "source": [
    "cl = pd.read_csv('classification.csv')\n",
    "cl = cl.replace({0:False, 1:True})"
   ]
  },
  {
   "cell_type": "code",
   "execution_count": 26,
   "id": "693529de",
   "metadata": {},
   "outputs": [],
   "source": [
    "y_t = cl['true']\n",
    "y_p = cl['pred']"
   ]
  },
  {
   "cell_type": "code",
   "execution_count": 54,
   "id": "ab00f423",
   "metadata": {},
   "outputs": [],
   "source": [
    "TP = (y_t & y_p).value_counts()[True]\n",
    "TN = (np.invert(y_t) & np.invert(y_p)).value_counts()[True]\n",
    "FN = (y_t & np.invert(y_p)).value_counts()[True]\n",
    "FP = (np.invert(y_t) & y_p).value_counts()[True]"
   ]
  },
  {
   "cell_type": "code",
   "execution_count": 55,
   "id": "6f92f279",
   "metadata": {},
   "outputs": [
    {
     "name": "stdout",
     "output_type": "stream",
     "text": [
      "43 34 59 64\n"
     ]
    }
   ],
   "source": [
    "print(TP, FP, FN, TN)"
   ]
  },
  {
   "cell_type": "code",
   "execution_count": 51,
   "id": "25bc6cb5",
   "metadata": {},
   "outputs": [
    {
     "data": {
      "text/plain": [
       "200"
      ]
     },
     "execution_count": 51,
     "metadata": {},
     "output_type": "execute_result"
    }
   ],
   "source": [
    "43+59+34+64"
   ]
  },
  {
   "cell_type": "code",
   "execution_count": null,
   "id": "4140c9b2",
   "metadata": {},
   "outputs": [],
   "source": []
  }
 ],
 "metadata": {
  "kernelspec": {
   "display_name": "Python 3 (ipykernel)",
   "language": "python",
   "name": "python3"
  },
  "language_info": {
   "codemirror_mode": {
    "name": "ipython",
    "version": 3
   },
   "file_extension": ".py",
   "mimetype": "text/x-python",
   "name": "python",
   "nbconvert_exporter": "python",
   "pygments_lexer": "ipython3",
   "version": "3.7.8"
  }
 },
 "nbformat": 4,
 "nbformat_minor": 5
}
