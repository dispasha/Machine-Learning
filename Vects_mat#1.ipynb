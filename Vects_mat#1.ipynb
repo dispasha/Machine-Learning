{
 "cells": [
  {
   "cell_type": "code",
   "execution_count": 1,
   "id": "62e6ba50",
   "metadata": {},
   "outputs": [],
   "source": [
    "import numpy as np"
   ]
  },
  {
   "cell_type": "code",
   "execution_count": 3,
   "id": "519c9b3a",
   "metadata": {},
   "outputs": [
    {
     "data": {
      "text/plain": [
       "array([[ 12.65697626,  -0.26296635,  -4.90969287, ..., -12.47963746,\n",
       "         -8.53023486,  -6.44135626],\n",
       "       [ 17.1400813 ,   5.16923641,   3.00697114, ...,  19.69157653,\n",
       "          9.69093028,  16.21336648],\n",
       "       [ -2.94423548,   3.43674247,   4.64926408, ...,  11.21967876,\n",
       "          8.24814093,   7.39306594],\n",
       "       ...,\n",
       "       [ -1.59657914,   8.92645072,  14.70339113, ...,   0.10647755,\n",
       "         -8.96274668, -15.10013057],\n",
       "       [ -2.36689137, -11.31225283,   5.86810876, ...,  -2.60621692,\n",
       "         12.37341471,   3.61209704],\n",
       "       [  8.6717043 ,  -6.4224073 ,  -1.43921841, ...,  -4.99701262,\n",
       "          0.56242096,   6.72512982]])"
      ]
     },
     "execution_count": 3,
     "metadata": {},
     "output_type": "execute_result"
    }
   ],
   "source": [
    "X = np.random.normal(loc=1, scale=10, size =(1000,50))\n",
    "X"
   ]
  },
  {
   "cell_type": "code",
   "execution_count": 4,
   "id": "1f81a3e6",
   "metadata": {},
   "outputs": [
    {
     "data": {
      "text/plain": [
       "array([[ 1.12032718, -0.09595134, -0.61175712, ..., -1.32663689,\n",
       "        -0.93351154, -0.69573112],\n",
       "       [ 1.55352095,  0.45314586,  0.18790538, ...,  1.87424181,\n",
       "         0.88933571,  1.5080409 ],\n",
       "       [-0.38718774,  0.27802214,  0.35379345, ...,  1.03132935,\n",
       "         0.74499892,  0.65003298],\n",
       "       ...,\n",
       "       [-0.25696631,  0.8329321 ,  1.36936116, ..., -0.0743799 ,\n",
       "        -0.97678006, -1.53802633],\n",
       "       [-0.33140009, -1.21283384,  0.47690899, ..., -0.34427976,\n",
       "         1.15769173,  0.28223358],\n",
       "       [ 0.73523806, -0.71855913, -0.26120437, ..., -0.58215226,\n",
       "        -0.0238813 ,  0.58505849]])"
      ]
     },
     "execution_count": 4,
     "metadata": {},
     "output_type": "execute_result"
    }
   ],
   "source": [
    "m = np.mean(X, axis=0)\n",
    "std = np.std(X, axis=0)\n",
    "X_norm = ((X - m) / std)\n",
    "X_norm"
   ]
  },
  {
   "cell_type": "code",
   "execution_count": 5,
   "id": "e7ec16f3",
   "metadata": {},
   "outputs": [],
   "source": [
    "Z = np.array([[4, 5, 0], \n",
    "             [1, 9, 3],              \n",
    "             [5, 1, 1],\n",
    "             [3, 3, 3], \n",
    "             [9, 9, 9], \n",
    "             [4, 7, 1]])"
   ]
  },
  {
   "cell_type": "code",
   "execution_count": 6,
   "id": "c5fe0899",
   "metadata": {},
   "outputs": [
    {
     "data": {
      "text/plain": [
       "(array([1, 4, 5], dtype=int64),)"
      ]
     },
     "execution_count": 6,
     "metadata": {},
     "output_type": "execute_result"
    }
   ],
   "source": [
    "r = np.sum(Z,axis=1)\n",
    "np.nonzero(r>10)"
   ]
  },
  {
   "cell_type": "code",
   "execution_count": 8,
   "id": "d4b2dcfe",
   "metadata": {},
   "outputs": [
    {
     "data": {
      "text/plain": [
       "array([[1., 0., 0.],\n",
       "       [0., 1., 0.],\n",
       "       [0., 0., 1.],\n",
       "       [1., 0., 0.],\n",
       "       [0., 1., 0.],\n",
       "       [0., 0., 1.]])"
      ]
     },
     "execution_count": 8,
     "metadata": {},
     "output_type": "execute_result"
    }
   ],
   "source": [
    "A= B = np.eye(3)\n",
    "np.vstack((A,B))"
   ]
  },
  {
   "cell_type": "code",
   "execution_count": 2,
   "id": "b9fae6b5",
   "metadata": {},
   "outputs": [
    {
     "data": {
      "text/plain": [
       "0.9473684210526315"
      ]
     },
     "execution_count": 2,
     "metadata": {},
     "output_type": "execute_result"
    }
   ],
   "source": [
    "900/950"
   ]
  },
  {
   "cell_type": "code",
   "execution_count": null,
   "id": "19b95f65",
   "metadata": {},
   "outputs": [],
   "source": []
  }
 ],
 "metadata": {
  "kernelspec": {
   "display_name": "Python 3 (ipykernel)",
   "language": "python",
   "name": "python3"
  },
  "language_info": {
   "codemirror_mode": {
    "name": "ipython",
    "version": 3
   },
   "file_extension": ".py",
   "mimetype": "text/x-python",
   "name": "python",
   "nbconvert_exporter": "python",
   "pygments_lexer": "ipython3",
   "version": "3.7.8"
  }
 },
 "nbformat": 4,
 "nbformat_minor": 5
}
